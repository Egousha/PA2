{
 "cells": [
  {
   "cell_type": "markdown",
   "id": "3eded383",
   "metadata": {},
   "source": [
    "# Evan Gousha"
   ]
  },
  {
   "cell_type": "markdown",
   "id": "2aac86f9",
   "metadata": {},
   "source": [
    "## PA2"
   ]
  },
  {
   "cell_type": "markdown",
   "id": "9814775a",
   "metadata": {},
   "source": [
    "### CS-150-02"
   ]
  },
  {
   "cell_type": "markdown",
   "id": "c9911adb",
   "metadata": {},
   "source": [
    "#### Fall 2021"
   ]
  },
  {
   "cell_type": "code",
   "execution_count": 2,
   "id": "084dc730",
   "metadata": {},
   "outputs": [
    {
     "name": "stdout",
     "output_type": "stream",
     "text": [
      "0\n",
      "1\n",
      "2\n",
      "3\n",
      "4\n",
      "5\n",
      "6 *\n",
      "7\n",
      "8\n",
      "9 *\n",
      "10\n",
      "11\n",
      "12 *\n",
      "13\n",
      "14\n",
      "15 *\n",
      "16\n",
      "17\n",
      "18 *\n",
      "19\n",
      "20\n",
      "21 *\n",
      "22\n",
      "23\n",
      "24 *\n",
      "25\n",
      "26\n",
      "27 *\n",
      "28\n",
      "29\n",
      "30 *\n",
      "31\n",
      "32\n",
      "33 *\n",
      "34\n",
      "35\n",
      "36 *\n",
      "37\n",
      "38\n",
      "39 *\n",
      "40\n",
      "41\n",
      "42 *\n",
      "43\n",
      "44\n",
      "45 *\n",
      "46\n",
      "47\n",
      "48 *\n",
      "49\n",
      "50\n",
      "51 *\n",
      "52\n",
      "53\n",
      "54 *\n",
      "55\n",
      "56\n",
      "57 *\n",
      "58\n",
      "59\n",
      "60 *\n",
      "61\n",
      "62\n",
      "63 *\n",
      "64\n",
      "65\n",
      "66 *\n",
      "67\n",
      "68\n",
      "69 *\n",
      "70\n",
      "71\n",
      "72 *\n",
      "73\n",
      "74\n",
      "75 *\n",
      "76\n",
      "77\n",
      "78 *\n",
      "79\n",
      "80\n",
      "81 *\n",
      "82\n",
      "83\n",
      "84 *\n",
      "85\n",
      "86\n",
      "87 *\n",
      "88\n",
      "89\n",
      "90 *\n",
      "91\n",
      "92\n",
      "93 *\n",
      "94\n",
      "95\n",
      "96 *\n",
      "97\n",
      "98\n",
      "99 *\n"
     ]
    }
   ],
   "source": [
    "for x in range (100):\n",
    "    if x>3 and x%3==0:\n",
    "        print(x,'*')\n",
    "    else:\n",
    "        print(x)"
   ]
  },
  {
   "cell_type": "code",
   "execution_count": 18,
   "id": "30bd28de",
   "metadata": {},
   "outputs": [
    {
     "name": "stdout",
     "output_type": "stream",
     "text": [
      "What is the subject's age? 9\n",
      "Minor\n",
      "What is the subject's age? 69\n",
      "Senior Citizen\n",
      "What is the subject's age? 56\n",
      "Adult\n",
      "What is the subject's age? 0\n"
     ]
    }
   ],
   "source": [
    "age=int(input(\"What is the subject's age? \"))\n",
    "while age>0:\n",
    "    if age<18:\n",
    "        print('Minor')\n",
    "    if 18<age<64:\n",
    "        print('Adult')\n",
    "    if age>=65:\n",
    "        print('Senior Citizen')\n",
    "    age=int(input(\"What is the subject's age? \"))"
   ]
  },
  {
   "cell_type": "code",
   "execution_count": 17,
   "id": "2eaca751",
   "metadata": {},
   "outputs": [
    {
     "name": "stdout",
     "output_type": "stream",
     "text": [
      "65 : Minor\n",
      "78 : Minor\n",
      "34 : Minor\n",
      "56 : Minor\n",
      "12 : Minor\n",
      "9 : Minor\n",
      "43 : Minor\n",
      "67 : Minor\n"
     ]
    }
   ],
   "source": [
    "ages=[65,78,34,56,12,9,43,67]\n",
    "for x in ages:\n",
    "    if age<18:\n",
    "        print(x,': Minor')\n",
    "    if 18<age<64:\n",
    "        print(x,': Adult')\n",
    "    if age>=65:\n",
    "        print(x,': Senior Citizen')\n",
    "    "
   ]
  },
  {
   "cell_type": "code",
   "execution_count": null,
   "id": "979b23db",
   "metadata": {},
   "outputs": [],
   "source": []
  }
 ],
 "metadata": {
  "kernelspec": {
   "display_name": "Python 3",
   "language": "python",
   "name": "python3"
  },
  "language_info": {
   "codemirror_mode": {
    "name": "ipython",
    "version": 3
   },
   "file_extension": ".py",
   "mimetype": "text/x-python",
   "name": "python",
   "nbconvert_exporter": "python",
   "pygments_lexer": "ipython3",
   "version": "3.8.8"
  }
 },
 "nbformat": 4,
 "nbformat_minor": 5
}
